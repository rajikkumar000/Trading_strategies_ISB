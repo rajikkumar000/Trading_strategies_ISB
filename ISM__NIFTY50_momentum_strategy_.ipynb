{
  "nbformat": 4,
  "nbformat_minor": 0,
  "metadata": {
    "colab": {
      "provenance": []
    },
    "kernelspec": {
      "name": "python3",
      "display_name": "Python 3"
    },
    "language_info": {
      "name": "python"
    }
  },
  "cells": [
    {
      "cell_type": "code",
      "source": [
        "import pandas as pd\n",
        "import yfinance as yf"
      ],
      "metadata": {
        "id": "oLIrZrCtqrXp"
      },
      "execution_count": null,
      "outputs": []
    },
    {
      "cell_type": "code",
      "execution_count": null,
      "metadata": {
        "colab": {
          "base_uri": "https://localhost:8080/"
        },
        "id": "tJyonvj3py5y",
        "outputId": "421b279d-f0b8-4581-bcae-8fa3770576d6"
      },
      "outputs": [
        {
          "output_type": "stream",
          "name": "stdout",
          "text": [
            "[*********************100%***********************]  48 of 48 completed"
          ]
        },
        {
          "output_type": "stream",
          "name": "stderr",
          "text": [
            "ERROR:yfinance:\n",
            "1 Failed download:\n"
          ]
        },
        {
          "output_type": "stream",
          "name": "stdout",
          "text": [
            "\n"
          ]
        },
        {
          "output_type": "stream",
          "name": "stderr",
          "text": [
            "ERROR:yfinance:['HDFC.NS']: Exception('%ticker%: No price data found, symbol may be delisted (1d 2020-01-01 -> 2022-09-09)')\n"
          ]
        },
        {
          "output_type": "stream",
          "name": "stdout",
          "text": [
            "Selected Stocks: Index(['TATASTEEL.NS', 'COALINDIA.NS', 'M&M.NS', 'ITC.NS', 'EICHERMOT.NS'], dtype='object')\n",
            "Annualized Return: 0.25976651386411986\n",
            "Annualized Volatility: 0.3004485356057756\n",
            "Sharpe Ratio: 0.8645957063507361\n"
          ]
        }
      ],
      "source": [
        "\n",
        "\n",
        "# Define list of Nifty50 stocks (subset for demonstration)\n",
        "nifty50_stocks = [\n",
        "    'ADANIPORTS.NS', 'ASIANPAINT.NS', 'AXISBANK.NS', 'BAJAJ-AUTO.NS', 'BAJFINANCE.NS',\n",
        "    'BAJAJFINSV.NS', 'BPCL.NS', 'BHARTIARTL.NS', 'BRITANNIA.NS', 'CIPLA.NS', 'COALINDIA.NS',\n",
        "    'DIVISLAB.NS', 'DRREDDY.NS', 'EICHERMOT.NS', 'GRASIM.NS', 'HCLTECH.NS', 'HDFC.NS',\n",
        "    'HDFCBANK.NS', 'HDFCLIFE.NS', 'HEROMOTOCO.NS', 'HINDALCO.NS', 'HINDUNILVR.NS',\n",
        "    'ICICIBANK.NS', 'INDUSINDBK.NS', 'INFY.NS', 'IOC.NS', 'ITC.NS', 'JSWSTEEL.NS',\n",
        "    'KOTAKBANK.NS', 'LT.NS', 'M&M.NS', 'MARUTI.NS', 'NESTLEIND.NS', 'NTPC.NS', 'ONGC.NS',\n",
        "    'POWERGRID.NS', 'RELIANCE.NS', 'SBILIFE.NS', 'SHREECEM.NS', 'SUNPHARMA.NS', 'TATAMOTORS.NS',\n",
        "    'TATASTEEL.NS', 'TCS.NS', 'TECHM.NS', 'TITAN.NS', 'ULTRACEMCO.NS', 'UPL.NS', 'WIPRO.NS'\n",
        "]\n",
        "# Define backtesting parameters\n",
        "lookback_period = 180  # Days for momentum calculation\n",
        "portfolio_size = 5  # Number of stocks to select for the portfolio. # 20\n",
        "initial_cash = 10000000  # Initial portfolio cash\n",
        "\n",
        "# Download historical data from Yahoo Finance\n",
        "data = yf.download(nifty50_stocks, start='2020-01-01', end='2022-09-09')\n",
        "\n",
        "# Calculate daily returns\n",
        "data['Adj Close'] = data['Adj Close'].fillna(method='ffill')\n",
        "daily_returns = data['Adj Close'].pct_change()\n",
        "\n",
        "# Calculate Momentum scores\n",
        "momentum_scores = daily_returns.rolling(lookback_period).sum()\n",
        "\n",
        "# Select top performing stocks based on Momentum\n",
        "selected_stocks = momentum_scores.iloc[-1].nlargest(portfolio_size).index\n",
        "\n",
        "# Calculate allocation per stock\n",
        "allocation_per_stock = initial_cash / portfolio_size\n",
        "\n",
        "# Calculate portfolio value over time\n",
        "portfolio_value = (allocation_per_stock * data['Adj Close'][selected_stocks]).sum(axis=1)\n",
        "\n",
        "# Calculate portfolio returns\n",
        "portfolio_returns = portfolio_value.pct_change()\n",
        "\n",
        "# Calculate performance metrics\n",
        "annualized_return = portfolio_returns.mean() * 252  # Assuming 252 trading days in a year\n",
        "annualized_volatility = portfolio_returns.std() * (252 ** 0.5)\n",
        "sharpe_ratio = annualized_return / annualized_volatility\n",
        "\n",
        "# Print results\n",
        "print(\"Selected Stocks:\", selected_stocks)\n",
        "print(\"Annualized Return:\", annualized_return)\n",
        "print(\"Annualized Volatility:\", annualized_volatility)\n",
        "print(\"Sharpe Ratio:\", sharpe_ratio)\n"
      ]
    }
  ]
}